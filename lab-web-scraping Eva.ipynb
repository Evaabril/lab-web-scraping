{
 "cells": [
  {
   "cell_type": "markdown",
   "id": "7e7a1ab8-2599-417d-9a65-25ef07f3a786",
   "metadata": {
    "id": "7e7a1ab8-2599-417d-9a65-25ef07f3a786"
   },
   "source": [
    "# Lab | Web Scraping"
   ]
  },
  {
   "cell_type": "markdown",
   "id": "ce8882fc-4815-4567-92fa-b4816358ba7d",
   "metadata": {
    "id": "ce8882fc-4815-4567-92fa-b4816358ba7d"
   },
   "source": [
    "Welcome to the IMDb Web Scraping Adventure Lab!\n",
    "\n",
    "**Objective**\n",
    "\n",
    "In this lab, we will embark on a mission to unearth valuable insights from the vast sea of data available on IMDb, one of the largest online databases of movie, TV, and celebrity information. As budding data scientists and business analysts, you have been tasked to scrape a specific subset of data from IMDb to assist film production companies in understanding the landscape of highly-rated movies in a defined time period. Your insights will potentially influence the making of the next netflix movie!\n",
    "\n",
    "**Background**\n",
    "\n",
    "In a world where data has become the new currency, businesses are leveraging big data to make informed decisions that drive success and profitability. The entertainment industry, being no exception, utilizes data analytics to comprehend market trends, audience preferences, and the performance of films based on various parameters such as director, genre, stars involved, etc. IMDb stands as a goldmine of such data, offering intricate details of almost every movie ever made.\n",
    "\n",
    "**Task**\n",
    "\n",
    "Your task is to create a Python script using `BeautifulSoup` and `pandas` to scrape IMDb movie data based on user ratings and release dates. This script should be able to filter movies with ratings above a certain threshold and within a specified date range.\n",
    "\n",
    "**Expected Outcome**\n",
    "\n",
    "- A function named `scrape_imdb` that takes four parameters: `title_type`,`user_rating`, `start_date`, and `end_date`.\n",
    "- The function should return a DataFrame with the following columns:\n",
    "  - **Movie Nr**: The number representing the movie’s position in the list.\n",
    "  - **Title**: The title of the movie.\n",
    "  - **Year**: The year the movie was released.\n",
    "  - **Rating**: The IMDb rating of the movie.\n",
    "  - **Runtime (min)**: The duration of the movie in minutes.\n",
    "  - **Genre**: The genre of the movie.\n",
    "  - **Description**: A brief description of the movie.\n",
    "  - **Director**: The director of the movie.\n",
    "  - **Stars**: The main stars of the movie.\n",
    "  - **Votes**: The number of votes the movie received.\n",
    "  - **Gross ($M)**: The gross earnings of the movie in millions of USD.\n",
    "\n",
    "You will execute this script to scrape data for movies with the Title Type `Feature Film` that have a user rating of `7.5 and above` and were released between `January 1, 1990, and December 31, 1992`.\n",
    "\n",
    "Remember to experiment with different title types, dates and ratings to ensure your code is versatile and can handle various searches effectively!\n",
    "\n",
    "**Resources**\n",
    "\n",
    "- [Beautiful Soup Documentation](https://www.crummy.com/software/BeautifulSoup/bs4/doc/)\n",
    "- [Pandas Documentation](https://pandas.pydata.org/pandas-docs/stable/index.html)\n",
    "- [IMDb Advanced Search](https://www.imdb.com/search/title/)\n"
   ]
  },
  {
   "cell_type": "markdown",
   "id": "3519921d-5890-445b-9a33-934ed8ee378c",
   "metadata": {
    "id": "3519921d-5890-445b-9a33-934ed8ee378c"
   },
   "source": [
    "**Hint**\n",
    "\n",
    "Your first mission is to familiarize yourself with the IMDb advanced search page. Head over to [IMDb advanced search](https://www.imdb.com/search/title/) and input the following parameters, keeping all other fields to their default values or blank:\n",
    "\n",
    "- **Title Type**: Feature film\n",
    "- **Release date**: From 1990 to 1992 (Note: You don't need to specify the day and month)\n",
    "- **User Rating**: 7.5 to -\n",
    "\n",
    "Upon searching, you'll land on a page showcasing a list of movies, each displaying vital details such as the title, release year, and crew information. Your task is to scrape this treasure trove of data.\n",
    "\n",
    "Carefully examine the resulting URL and construct your own URL to include all the necessary parameters for filtering the movies."
   ]
  },
  {
   "cell_type": "markdown",
   "id": "25a83a0d-a742-49f6-985e-e27887cbf922",
   "metadata": {
    "id": "25a83a0d-a742-49f6-985e-e27887cbf922"
   },
   "source": [
    "\n",
    "---\n",
    "\n",
    "**Best of luck! Immerse yourself in the world of movies and may the data be with you!**"
   ]
  },
  {
   "cell_type": "markdown",
   "id": "7b75cf0d-9afa-4eec-a9e2-befeac68b2a0",
   "metadata": {
    "id": "7b75cf0d-9afa-4eec-a9e2-befeac68b2a0"
   },
   "source": [
    "**Important note**:\n",
    "\n",
    "In the fast-changing online world, websites often get updates and make changes. When you try this lab, the IMDb website might be different from what we expect.\n",
    "\n",
    "If you run into problems because of these changes, like new rules or things that stop you from getting data, don't worry! Instead, get creative.\n",
    "\n",
    "You can choose another website that interests you and is good for scraping data. Websites like Wikipedia or The New York Times are good options. The main goal is still the same: get useful data and learn how to scrape it from a website that you find interesting. It's a chance to practice your web scraping skills and explore a source of information you like."
   ]
  },
  {
   "cell_type": "code",
   "execution_count": 1,
   "id": "40359eee-9cd7-4884-bfa4-83344c222305",
   "metadata": {
    "id": "40359eee-9cd7-4884-bfa4-83344c222305"
   },
   "outputs": [],
   "source": [
    "from bs4 import BeautifulSoup\n",
    "import requests\n",
    "import re\n",
    "import pandas as pd"
   ]
  },
  {
   "cell_type": "code",
   "execution_count": 2,
   "id": "0c138da7-8ab8-4a72-88c4-82b28fa88f41",
   "metadata": {},
   "outputs": [
    {
     "name": "stdout",
     "output_type": "stream",
     "text": [
      "200\n"
     ]
    }
   ],
   "source": [
    "url ='https://www.imdb.com/list/ls025598828/' #Accedemos con una url distinta por que nos esta devolvindo un requests 403 la web\n",
    "res = requests.get(url)\n",
    "print(res.status_code)"
   ]
  },
  {
   "cell_type": "code",
   "execution_count": 3,
   "id": "70ec7d27-3aa0-4e82-a3e1-19ab13761ebe",
   "metadata": {},
   "outputs": [],
   "source": [
    "soup = BeautifulSoup(res.content, 'html.parser')"
   ]
  },
  {
   "cell_type": "code",
   "execution_count": 5,
   "id": "291fcc82-8104-441f-9de4-6e579228ba37",
   "metadata": {},
   "outputs": [],
   "source": [
    "title = soup.find_all('h3',{'class':\"lister-item-header\"})"
   ]
  },
  {
   "cell_type": "code",
   "execution_count": 46,
   "id": "56c5b8ab-a40a-4278-9dc8-46a61375d973",
   "metadata": {},
   "outputs": [],
   "source": [
    "def scrape_imdb(title_type, user_rating, start_year, end_year):\n",
    "    url = f'https://www.imdb.com/list/ls025598828/?sort=list_order,asc&st_dt=&mode=detail&page=1' \\\n",
    "          f'&title_type={title_type}&user_rating={user_rating}%2C&release_date={start_year}%2C{end_year}&ref_=ttls_ref_yr'\n",
    "\n",
    "    df_results = pd.DataFrame()\n",
    "    response = requests.get(url)\n",
    "\n",
    "    if response.status_code == 200:\n",
    "        soup = BeautifulSoup(response.content, 'html.parser')\n",
    "\n",
    "        # Lists to store movie details\n",
    "        movie_number = []\n",
    "        movie_title = []\n",
    "        movie_year = []\n",
    "        movie_rating = []\n",
    "        movie_runtime = []\n",
    "        movie_genre = []\n",
    "        movie_description = []\n",
    "        movie_director = []\n",
    "        movie_stars = []\n",
    "        movie_votes = []\n",
    "        movie_grosses = []\n",
    "\n",
    "        movie_data = soup.findAll('div', attrs={'class': 'lister-item mode-detail'})\n",
    "\n",
    "        for store in movie_data:\n",
    "            number = store.h3.find('span', class_='lister-item-index unbold text-primary').text\n",
    "            movie_number.append(number)\n",
    "\n",
    "            name = store.h3.a.text\n",
    "            movie_title.append(name)\n",
    "\n",
    "            year = store.h3.find('span', class_='lister-item-year text-muted unbold').text.replace('(', '').replace(')', '')\n",
    "            movie_year.append(year)\n",
    "\n",
    "            runtime_time = store.p.find('span', class_='runtime').text\n",
    "            movie_runtime.append(runtime_time)\n",
    "\n",
    "            rating = store.find('span', class_='ipl-rating-star__rating').text\n",
    "            movie_rating.append(rating)\n",
    "\n",
    "            genre = store.p.find('span', class_='genre').text.replace('\\n', '')\n",
    "            movie_genre.append(genre)\n",
    "\n",
    "            value = store.find_all('span', attrs={'name': 'nv'})\n",
    "            vote = value[0].text \n",
    "            movie_votes.append(vote)\n",
    "\n",
    "            grosses = value[0].text\n",
    "            movie_grosses.append(grosses)\n",
    "\n",
    "            description = store.find_all('p', class_='')[0].text.replace('\\n', '')\n",
    "            movie_description.append(description)\n",
    "\n",
    "            p_elements = store.find_all('p', class_='text-muted text-small')\n",
    "            director_info = p_elements[1]\n",
    "            director_name = director_info.find('a').text\n",
    "            movie_director.append(director_name)\n",
    "\n",
    "            p_elements = store.find_all('p', class_='text-muted text-small')\n",
    "            stars_info = p_elements[1]\n",
    "            star_links = stars_info.find_all('a')[1:]\n",
    "            stars_names = [star.text for star in star_links]\n",
    "            movie_stars.append(stars_names)\n",
    "\n",
    "        imdb_df = pd.DataFrame({\n",
    "            'Movie Number': movie_number,\n",
    "            'Movie Title': movie_title,\n",
    "            'Release Year': movie_year,\n",
    "            'Rating': movie_rating,\n",
    "            'Votes': movie_votes,\n",
    "            'Runtime': movie_runtime,\n",
    "            'Genre': movie_genre,\n",
    "            'Description': movie_description,\n",
    "            'Director': movie_director,\n",
    "            'Stars': movie_stars,\n",
    "            'Gross': movie_grosses\n",
    "        })\n",
    "\n",
    "        df_results = imdb_df\n",
    "    else:\n",
    "        print('Negative Response from server')\n",
    "\n",
    "    return df_results"
   ]
  },
  {
   "cell_type": "code",
   "execution_count": null,
   "id": "d27263a6-39b3-4064-ad9d-52e9d16ab077",
   "metadata": {},
   "outputs": [],
   "source": [
    "title_type = 'movie'\n",
    "user_rating= '7.5'\n",
    "start_year = '1990'\n",
    "end_year = '1992'\n",
    "df_results = scrape_imdb(title_type,user_rating,start_year,end_year)\n",
    "df_results.head(20)"
   ]
  },
  {
   "cell_type": "markdown",
   "id": "9ab1217a-df9d-4a2b-a32c-2c5f1eecd52a",
   "metadata": {
    "id": "9ab1217a-df9d-4a2b-a32c-2c5f1eecd52a"
   },
   "source": [
    "## BONUS\n",
    "\n",
    "The search results span multiple pages, housing a total of 631 movies in our example with each page displaying 50 movies at most. To scrape data seamlessly from all pages, you'll need to dive deep into the structure of the URLs generated with each \"Next\" click.\n",
    "\n",
    "Take a close look at the following URLs:\n",
    "- First page:\n",
    "  ```\n",
    "  https://www.imdb.com/search/title/?title_type=feature&release_date=1990-01-01,1992-12-31&user_rating=7.5,\n",
    "  ```\n",
    "- Second page:\n",
    "  ```\n",
    "  https://www.imdb.com/search/title/?title_type=feature&release_date=1990-01-01,1992-12-31&user_rating=7.5,&start=51&ref_=adv_nxt\n",
    "  ```\n",
    "- Third page:\n",
    "  ```\n",
    "  https://www.imdb.com/search/title/?title_type=feature&release_date=1990-01-01,1992-12-31&user_rating=7.5,&start=101&ref_=adv_nxt\n",
    "  ```\n",
    "\n",
    "You should notice a pattern. There is a `start` parameter incrementing by 50 with each page, paired with a constant `ref_` parameter holding the value \"adv_nxt\".\n",
    "\n",
    "Modify your script so it's capable of iterating over all available pages to fetch data on all the 631 movies (631 is the total number of movies in the proposed example)."
   ]
  },
  {
   "cell_type": "code",
   "execution_count": null,
   "id": "21ac4fc0-a12b-4a00-9266-2020166f0dea",
   "metadata": {
    "id": "21ac4fc0-a12b-4a00-9266-2020166f0dea"
   },
   "outputs": [],
   "source": [
    "# Your solution goes here"
   ]
  }
 ],
 "metadata": {
  "colab": {
   "provenance": []
  },
  "kernelspec": {
   "display_name": "Python 3 (ipykernel)",
   "language": "python",
   "name": "python3"
  },
  "language_info": {
   "codemirror_mode": {
    "name": "ipython",
    "version": 3
   },
   "file_extension": ".py",
   "mimetype": "text/x-python",
   "name": "python",
   "nbconvert_exporter": "python",
   "pygments_lexer": "ipython3",
   "version": "3.11.7"
  }
 },
 "nbformat": 4,
 "nbformat_minor": 5
}
